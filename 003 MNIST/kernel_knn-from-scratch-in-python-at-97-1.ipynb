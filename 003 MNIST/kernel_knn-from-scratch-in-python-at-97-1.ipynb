{
 "cells": [
  {
   "cell_type": "markdown",
   "metadata": {
    "_cell_guid": "28ee5b3d-3c9a-4121-cd36-a379f67e797f",
    "_uuid": "d7961283f8524130bf008204f074b7265d777896"
   },
   "source": [
    "Forked from  Surya Teja Cheedella's notebook\n",
    "\n",
    "Implemented kNN classifier from scratch. And the results got 97.1% accuracy on public leaderboard."
   ]
  },
  {
   "cell_type": "code",
   "execution_count": 1,
   "metadata": {
    "_cell_guid": "77b1adea-389e-9228-d409-7b6a3a43cd58",
    "_uuid": "cfde23cfadb9559e9fa389f4aaa8f4f7fce032cc",
    "collapsed": true
   },
   "outputs": [],
   "source": [
    "import numpy as np\n",
    "import matplotlib.pyplot as plt\n",
    "from collections import Counter\n",
    "import time\n",
    "\n",
    "%matplotlib inline\n",
    "plt.rcParams['figure.figsize'] = (10.0, 8.0) # set default size of plots\n",
    "plt.rcParams['image.interpolation'] = 'nearest'\n",
    "plt.rcParams['image.cmap'] = 'gray'\n",
    "\n",
    "# load csv files to numpy arrays\n",
    "def load_data(data_dir):\n",
    "    train_data = open(data_dir + \"train.csv\").read()\n",
    "    train_data = train_data.split(\"\\n\")[1:-1]\n",
    "    train_data = [i.split(\",\") for i in train_data]\n",
    "    # print(len(train_data))\n",
    "    X_train = np.array([[int(i[j]) for j in range(1,len(i))] for i in train_data])\n",
    "    y_train = np.array([int(i[0]) for i in train_data])\n",
    "\n",
    "    # print(X_train.shape, y_train.shape)\n",
    "\n",
    "    test_data = open(data_dir + \"test.csv\").read()\n",
    "    test_data = test_data.split(\"\\n\")[1:-1]\n",
    "    test_data = [i.split(\",\") for i in test_data]\n",
    "    # print(len(test_data))\n",
    "    X_test = np.array([[int(i[j]) for j in range(0,len(i))] for i in test_data])\n",
    "\n",
    "    # print(X_test.shape)\n",
    "\n",
    "    return X_train, y_train, X_test\n",
    "\n",
    "\n",
    "class simple_knn():\n",
    "    \"a simple kNN with L2 distance\"\n",
    "\n",
    "    def __init__(self):\n",
    "        pass\n",
    "\n",
    "    def train(self, X, y):\n",
    "        self.X_train = X\n",
    "        self.y_train = y\n",
    "\n",
    "    def predict(self, X, k=1):\n",
    "        dists = self.compute_distances(X)\n",
    "        # print(\"computed distances\")\n",
    "\n",
    "        num_test = dists.shape[0]\n",
    "        y_pred = np.zeros(num_test)\n",
    "\n",
    "        for i in range(num_test):\n",
    "            k_closest_y = []\n",
    "            labels = self.y_train[np.argsort(dists[i,:])].flatten()\n",
    "            # find k nearest lables\n",
    "            k_closest_y = labels[:k]\n",
    "\n",
    "            # out of these k nearest lables which one is most common\n",
    "            # for 5NN [1, 1, 1, 2, 3] returns 1\n",
    "            # break ties by selecting smaller label\n",
    "            # for 5NN [1, 2, 1, 2, 3] return 1 even though 1 and 2 appeared twice.\n",
    "            c = Counter(k_closest_y)\n",
    "            y_pred[i] = c.most_common(1)[0][0]\n",
    "\n",
    "        return(y_pred)\n",
    "\n",
    "    def compute_distances(self, X):\n",
    "        num_test = X.shape[0]\n",
    "        num_train = self.X_train.shape[0]\n",
    "\n",
    "        dot_pro = np.dot(X, self.X_train.T)\n",
    "        sum_square_test = np.square(X).sum(axis = 1)\n",
    "        sum_square_train = np.square(self.X_train).sum(axis = 1)\n",
    "        dists = np.sqrt(-2 * dot_pro + sum_square_train + np.matrix(sum_square_test).T)\n",
    "\n",
    "        return(dists)"
   ]
  },
  {
   "cell_type": "markdown",
   "metadata": {
    "_cell_guid": "8af92cd0-c252-18e2-39f0-d9b11facdc2b",
    "_uuid": "da8891e52fd81df19487bda2571f405d4216abe0"
   },
   "source": [
    "\n",
    "Let's read ../input/train.csv and ../input/test.csv files to numpy arrays.\n",
    "\n",
    "Print shapes of those arrays as a sanity check."
   ]
  },
  {
   "cell_type": "code",
   "execution_count": 2,
   "metadata": {
    "_cell_guid": "c007880e-676d-47b9-f880-893556264a1f",
    "_uuid": "5128b13e950814b5f93b89057c2d8aa581c0111a",
    "collapsed": true
   },
   "outputs": [],
   "source": [
    "# runs for 35 seconds\n",
    "data_dir = \"../input/\"\n",
    "X_train, y_train, X_test = load_data(data_dir)"
   ]
  },
  {
   "cell_type": "code",
   "execution_count": 3,
   "metadata": {
    "_cell_guid": "444e4465-4b32-80ec-ba68-ed1aa9a0b637",
    "_uuid": "a6b461706ddedcf68cfc99e495c2c9ceef608cf0",
    "collapsed": true
   },
   "outputs": [
    {
     "name": "stdout",
     "output_type": "stream",
     "text": [
      "(42000, 784) (42000,) (28000, 784)\n"
     ]
    }
   ],
   "source": [
    "print(X_train.shape, y_train.shape, X_test.shape)"
   ]
  },
  {
   "cell_type": "markdown",
   "metadata": {
    "_cell_guid": "a040c682-257f-bb60-8058-327fdb71286a",
    "_uuid": "aa7be93bbd734c38816b529698c85e223aab52e3"
   },
   "source": [
    "Visualize random samples from training data."
   ]
  },
  {
   "cell_type": "code",
   "execution_count": 4,
   "metadata": {
    "_cell_guid": "6d9399f5-79df-fc78-e371-2efae39d4e69",
    "_uuid": "f7bd939f3f296491e295066e976bff08c933f383",
    "collapsed": true
   },
   "outputs": [
    {
     "data": {
      "image/png": "[encoded data removed]",
      "text/plain": [
       "<matplotlib.figure.Figure at 0x7fd0890e6978>"
      ]
     },
     "metadata": {},
     "output_type": "display_data"
    }
   ],
   "source": [
    "# runs for 10 seconds\n",
    "classes = [\"0\", \"1\", \"2\", \"3\", \"4\", \"5\", \"6\", \"7\", \"8\", \"9\"]\n",
    "num_classes = len(classes)\n",
    "samples = 8\n",
    "\n",
    "for y, cls in enumerate(classes):\n",
    "    idxs = np.nonzero([i == y for i in y_train])\n",
    "    idxs = np.random.choice(idxs[0], samples, replace=False)\n",
    "    for i , idx in enumerate(idxs):\n",
    "        plt_idx = i * num_classes + y + 1\n",
    "        plt.subplot(samples, num_classes, plt_idx)\n",
    "        plt.imshow(X_train[idx].reshape((28, 28)))\n",
    "        plt.axis(\"off\")\n",
    "        if i == 0:\n",
    "            plt.title(cls)\n",
    "        \n",
    "\n",
    "plt.show()"
   ]
  },
  {
   "cell_type": "code",
   "execution_count": 5,
   "metadata": {
    "_cell_guid": "0515c49a-af51-0c87-60e8-49ab4fa1c7ba",
    "_uuid": "4de180cbc2fe20229740cd675f170510e4a47d33",
    "collapsed": true
   },
   "outputs": [
    {
     "data": {
      "text/plain": [
       "<matplotlib.image.AxesImage at 0x7fd085626cf8>"
      ]
     },
     "execution_count": 5,
     "metadata": {},
     "output_type": "execute_result"
    },
    {
     "data": {
      "image/png": "[encoded data removed]",
      "text/plain": [
       "<matplotlib.figure.Figure at 0x7fd0890ef208>"
      ]
     },
     "metadata": {},
     "output_type": "display_data"
    }
   ],
   "source": [
    "# just to visualize ith test image\n",
    "plt.imshow(X_test[2311].reshape((28, 28)))"
   ]
  },
  {
   "cell_type": "markdown",
   "metadata": {
    "_cell_guid": "86c3427d-c1a0-ee13-96b3-2c1d81020f7a",
    "_uuid": "6ac78533a9491729ece566b21f7e0453b222a0f0"
   },
   "source": [
    "Split testing data into batches as distances of 10,000 test images and 60,000 train images won't fit in memory."
   ]
  },
  {
   "cell_type": "code",
   "execution_count": 6,
   "metadata": {
    "_cell_guid": "0081f7ac-f1d8-c8e4-3ec4-d2c72ec7a93a",
    "_uuid": "7490cd2b9a91d6becad831b8ec6e94f925b179ff",
    "collapsed": true
   },
   "outputs": [],
   "source": [
    "# predict labels for batch_size number of test images at a time.\n",
    "batch_size = 2000\n",
    "# k = 3\n",
    "k = 1\n",
    "classifier = simple_knn()\n",
    "classifier.train(X_train, y_train)"
   ]
  },
  {
   "cell_type": "markdown",
   "metadata": {
    "_cell_guid": "e460ce7b-f627-d221-7785-eb657531cd4c",
    "_uuid": "8a3b7098f2958ee1b62c43e74ce7439b481dd7c0"
   },
   "source": [
    "\n",
    "As Kaggle kernels have 1200 seconds limit, I have divided the prediction step into two cells each cell running for 13 minutes and saving prediction to predictions."
   ]
  },
  {
   "cell_type": "code",
   "execution_count": 7,
   "metadata": {
    "_cell_guid": "60a6116b-b2da-f024-684a-81498e410674",
    "_uuid": "e229095fc609482af158c63ceab60a62a6f9e1da",
    "collapsed": true
   },
   "outputs": [
    {
     "name": "stdout",
     "output_type": "stream",
     "text": [
      "Computing batch 1/14...\n",
      "Completed this batch in 70.63628625869751 Secs.\n",
      "Computing batch 2/14...\n",
      "Completed this batch in 70.36943030357361 Secs.\n",
      "Computing batch 3/14...\n",
      "Completed this batch in 72.46677160263062 Secs.\n",
      "Computing batch 4/14...\n",
      "Completed this batch in 75.08706498146057 Secs.\n",
      "Computing batch 5/14...\n",
      "Completed this batch in 74.57602095603943 Secs.\n",
      "Computing batch 6/14...\n",
      "Completed this batch in 75.54668617248535 Secs.\n",
      "Computing batch 7/14...\n",
      "Completed this batch in 75.07497310638428 Secs.\n",
      "Completed predicting the test data.\n"
     ]
    }
   ],
   "source": [
    "# runs for 13 minutes\n",
    "predictions = []\n",
    "\n",
    "for i in range(int(len(X_test)/(2*batch_size))):\n",
    "    # predicts from i * batch_size to (i+1) * batch_size\n",
    "    print(\"Computing batch \" + str(i+1) + \"/\" + str(int(len(X_test)/batch_size)) + \"...\")\n",
    "    tic = time.time()\n",
    "    predts = classifier.predict(X_test[i * batch_size:(i+1) * batch_size], k)\n",
    "    toc = time.time()\n",
    "    predictions = predictions + list(predts)\n",
    "#     print(\"Len of predictions: \" + str(len(predictions)))\n",
    "    print(\"Completed this batch in \" + str(toc-tic) + \" Secs.\")\n",
    "\n",
    "print(\"Completed predicting the test data.\")"
   ]
  },
  {
   "cell_type": "code",
   "execution_count": 8,
   "metadata": {
    "_cell_guid": "34480687-65cc-a216-eae5-0daad8fbf2a2",
    "_uuid": "70278a33e512ef4ec4e2c3e9590d2aa6c5aeb127",
    "collapsed": true
   },
   "outputs": [
    {
     "name": "stdout",
     "output_type": "stream",
     "text": [
      "Computing batch 8/14...\n",
      "Completed this batch in 9.5367431640625e-07 Secs.\n",
      "Computing batch 9/14...\n",
      "Completed this batch in 7.152557373046875e-07 Secs.\n",
      "Computing batch 10/14...\n",
      "Completed this batch in 4.76837158203125e-07 Secs.\n",
      "Computing batch 11/14...\n",
      "Completed this batch in 4.76837158203125e-07 Secs.\n",
      "Computing batch 12/14...\n",
      "Completed this batch in 1.1920928955078125e-06 Secs.\n",
      "Computing batch 13/14...\n",
      "Completed this batch in 7.152557373046875e-07 Secs.\n",
      "Computing batch 14/14...\n",
      "Completed this batch in 1.1920928955078125e-06 Secs.\n",
      "Completed predicting the test data.\n"
     ]
    }
   ],
   "source": [
    "# runs for 13 minutes\n",
    "# uncomment predict lines to predict second half of test data\n",
    "\n",
    "for i in range(int(len(X_test)/(2*batch_size)), int(len(X_test)/batch_size)):\n",
    "    # predicts from i * batch_size to (i+1) * batch_size\n",
    "    print(\"Computing batch \" + str(i+1) + \"/\" + str(int(len(X_test)/batch_size)) + \"...\")\n",
    "    tic = time.time()\n",
    "    #predts = classifier.predict(X_test[i * batch_size:(i+1) * batch_size], k)\n",
    "    toc = time.time()\n",
    "    #predictions = predictions + list(predts)\n",
    "#     print(\"Len of predictions: \" + str(len(predictions)))\n",
    "    print(\"Completed this batch in \" + str(toc-tic) + \" Secs.\")\n",
    "\n",
    "print(\"Completed predicting the test data.\")"
   ]
  },
  {
   "cell_type": "markdown",
   "metadata": {
    "_cell_guid": "a63c29fd-02a5-e4f4-8858-fd1f92d65acb",
    "_uuid": "98433bcd992a636467c90ca9423e602e1412c351"
   },
   "source": [
    "After predicting and saving results in Python array, we dump our predictions to a csv file named predictions.csv which gets an accuracy of 97.114% on public leaderboard."
   ]
  },
  {
   "cell_type": "code",
   "execution_count": 9,
   "metadata": {
    "_cell_guid": "fdfc70fe-2835-8c10-91d2-7fd27323141e",
    "_uuid": "39ea974b72b14ebb33ab8139df1deaa837181146",
    "collapsed": true
   },
   "outputs": [],
   "source": [
    "out_file = open(\"predictions.csv\", \"w\")\n",
    "out_file.write(\"ImageId,Label\\n\")\n",
    "for i in range(len(predictions)):\n",
    "    out_file.write(str(i+1) + \",\" + str(int(predictions[i])) + \"\\n\")\n",
    "out_file.close()"
   ]
  }
 ],
 "metadata": {
  "_change_revision": 0,
  "_is_fork": false,
  "kernelspec": {
   "display_name": "Python 3",
   "language": "python",
   "name": "python3"
  },
  "language_info": {
   "codemirror_mode": {
    "name": "ipython",
    "version": 3
   },
   "file_extension": ".py",
   "mimetype": "text/x-python",
   "name": "python",
   "nbconvert_exporter": "python",
   "pygments_lexer": "ipython3",
   "version": "3.6.1"
  }
 },
 "nbformat": 4,
 "nbformat_minor": 1
}
